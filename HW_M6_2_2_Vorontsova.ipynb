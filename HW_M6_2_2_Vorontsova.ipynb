{
 "cells": [
  {
   "cell_type": "markdown",
   "id": "e152f6d6",
   "metadata": {
    "ExecuteTime": {
     "end_time": "2022-12-10T14:29:24.703416Z",
     "start_time": "2022-12-10T14:29:24.688485Z"
    },
    "id": "e152f6d6"
   },
   "source": [
    "## Домашнє завдання 6: Статистичні тести"
   ]
  },
  {
   "cell_type": "markdown",
   "id": "cd404683",
   "metadata": {
    "id": "cd404683"
   },
   "source": [
    "0. Зчитайте дані з `data.csv` та запишіть значення колонки data у форматі np.ndarray в змінну data. Ми будемо далі працювати з цією змінною."
   ]
  },
  {
   "cell_type": "code",
   "execution_count": 1,
   "id": "a8M1Xqa3hInl",
   "metadata": {
    "id": "a8M1Xqa3hInl"
   },
   "outputs": [],
   "source": [
    "import pandas as pd\n",
    "import numpy as np"
   ]
  },
  {
   "cell_type": "code",
   "execution_count": 2,
   "id": "dd012b2d",
   "metadata": {},
   "outputs": [
    {
     "data": {
      "text/html": [
       "<div>\n",
       "<style scoped>\n",
       "    .dataframe tbody tr th:only-of-type {\n",
       "        vertical-align: middle;\n",
       "    }\n",
       "\n",
       "    .dataframe tbody tr th {\n",
       "        vertical-align: top;\n",
       "    }\n",
       "\n",
       "    .dataframe thead th {\n",
       "        text-align: right;\n",
       "    }\n",
       "</style>\n",
       "<table border=\"1\" class=\"dataframe\">\n",
       "  <thead>\n",
       "    <tr style=\"text-align: right;\">\n",
       "      <th></th>\n",
       "      <th>Unnamed: 0</th>\n",
       "      <th>data</th>\n",
       "    </tr>\n",
       "  </thead>\n",
       "  <tbody>\n",
       "    <tr>\n",
       "      <th>0</th>\n",
       "      <td>0</td>\n",
       "      <td>17.499453</td>\n",
       "    </tr>\n",
       "    <tr>\n",
       "      <th>1</th>\n",
       "      <td>1</td>\n",
       "      <td>19.662399</td>\n",
       "    </tr>\n",
       "    <tr>\n",
       "      <th>2</th>\n",
       "      <td>2</td>\n",
       "      <td>7.182823</td>\n",
       "    </tr>\n",
       "    <tr>\n",
       "      <th>3</th>\n",
       "      <td>3</td>\n",
       "      <td>29.841625</td>\n",
       "    </tr>\n",
       "    <tr>\n",
       "      <th>4</th>\n",
       "      <td>4</td>\n",
       "      <td>9.239386</td>\n",
       "    </tr>\n",
       "    <tr>\n",
       "      <th>...</th>\n",
       "      <td>...</td>\n",
       "      <td>...</td>\n",
       "    </tr>\n",
       "    <tr>\n",
       "      <th>95</th>\n",
       "      <td>95</td>\n",
       "      <td>26.244944</td>\n",
       "    </tr>\n",
       "    <tr>\n",
       "      <th>96</th>\n",
       "      <td>96</td>\n",
       "      <td>22.282832</td>\n",
       "    </tr>\n",
       "    <tr>\n",
       "      <th>97</th>\n",
       "      <td>97</td>\n",
       "      <td>18.697188</td>\n",
       "    </tr>\n",
       "    <tr>\n",
       "      <th>98</th>\n",
       "      <td>98</td>\n",
       "      <td>27.041189</td>\n",
       "    </tr>\n",
       "    <tr>\n",
       "      <th>99</th>\n",
       "      <td>99</td>\n",
       "      <td>5.938381</td>\n",
       "    </tr>\n",
       "  </tbody>\n",
       "</table>\n",
       "<p>100 rows × 2 columns</p>\n",
       "</div>"
      ],
      "text/plain": [
       "    Unnamed: 0       data\n",
       "0            0  17.499453\n",
       "1            1  19.662399\n",
       "2            2   7.182823\n",
       "3            3  29.841625\n",
       "4            4   9.239386\n",
       "..         ...        ...\n",
       "95          95  26.244944\n",
       "96          96  22.282832\n",
       "97          97  18.697188\n",
       "98          98  27.041189\n",
       "99          99   5.938381\n",
       "\n",
       "[100 rows x 2 columns]"
      ]
     },
     "execution_count": 2,
     "metadata": {},
     "output_type": "execute_result"
    }
   ],
   "source": [
    "data_path = '../Статистика/data.csv'\n",
    "df = pd.read_csv(data_path)\n",
    "df"
   ]
  },
  {
   "cell_type": "code",
   "execution_count": 3,
   "id": "ca7272de",
   "metadata": {},
   "outputs": [
    {
     "data": {
      "text/plain": [
       "array([17.49945292, 19.66239904,  7.18282343, 29.84162485,  9.23938649,\n",
       "       14.94951581, 23.0172885 , 12.52827148, 13.65228669, 14.54595431,\n",
       "       23.30872427, 33.75324808, 20.24923636, 13.29244733, 23.23434992,\n",
       "       16.4230418 , 19.88521702, 27.05000732, 15.5127743 , 20.05415151,\n",
       "       14.73135264, 19.06139498, 21.53942271, 14.06732571, 17.9670682 ,\n",
       "       18.58289581, 16.17406993, 12.87432628, 11.47269664, 19.07902883,\n",
       "       18.38565824, 33.38820073,  5.39139454, 20.67635903, 22.22266722,\n",
       "       28.15780318, 23.01114324, 14.93471778, 20.00005857, 23.25411543,\n",
       "       18.11895082, 24.62607043,  8.79145607, 30.387108  , 28.80606806,\n",
       "       17.98593597, 23.66804468, 20.28782355, 15.02518827, 20.52626131,\n",
       "       26.00219532, 17.71344489, 17.74598346, 19.55317542, 22.60097798,\n",
       "       27.67027538, 16.19192417, 23.05037746, 21.29669604,  8.84832568,\n",
       "       17.48410111, 19.20602661, 19.76257856, 21.9560206 ,  7.75806171,\n",
       "       20.27753314, 15.93394654, 11.36336584, 23.14577858, 24.41167746,\n",
       "       16.08049839, 25.05473769, 17.71090111, 20.39893405, 13.40756632,\n",
       "       29.50692234,  4.04330326, 19.45128426, 24.17071763,  7.79920072,\n",
       "       18.86318441, 19.53668801, 24.94821803, 27.48927752, 17.57664638,\n",
       "       11.692888  , 28.20341254, 27.3073138 , 17.22796791, 22.10533096,\n",
       "       22.2911974 , 23.39765265, 21.22524787, 28.44017745,  9.57224297,\n",
       "       26.24494372, 22.28283182, 18.69718839, 27.04118899,  5.93838085])"
      ]
     },
     "execution_count": 3,
     "metadata": {},
     "output_type": "execute_result"
    }
   ],
   "source": [
    "data = np.array(df.data)\n",
    "data"
   ]
  },
  {
   "cell_type": "markdown",
   "id": "3d06cbbf",
   "metadata": {
    "id": "3d06cbbf"
   },
   "source": [
    "Запустіть код нижче. Для коректної робити всіх подальших методів дані мають бути у вигляді одновимірного вектора, тобто мати розмір (100,)."
   ]
  },
  {
   "cell_type": "code",
   "execution_count": 4,
   "id": "Rc_cM9TfhJYI",
   "metadata": {
    "id": "Rc_cM9TfhJYI"
   },
   "outputs": [
    {
     "data": {
      "text/plain": [
       "(100,)"
      ]
     },
     "execution_count": 4,
     "metadata": {},
     "output_type": "execute_result"
    }
   ],
   "source": [
    "data.shape"
   ]
  },
  {
   "cell_type": "markdown",
   "id": "abdcef5d",
   "metadata": {
    "id": "abdcef5d"
   },
   "source": [
    "1. Зчитані дані - це сума покупок в доларах наших покупців на сайті протягом липня 2022 року.\n",
    "\n",
    "До цього місяця, ми мали продажі в середньому на чек $20. Чи вийшло у нас статистично значущо **підвищити** середній чек за останній місяць?\n",
    "\n",
    "Оберіть статистичний тест (z-test чи t-test). Виведіть p-значення статистичного тесту та зробіть висновок, чи ми маємо зараз статистично значущу різницю у розмірі середнього чеку.\n",
    "\n",
    "**Підказка**: тут тест буде одновибірковий."
   ]
  },
  {
   "cell_type": "code",
   "execution_count": 5,
   "id": "XhxcSbYqhLz9",
   "metadata": {
    "id": "XhxcSbYqhLz9"
   },
   "outputs": [],
   "source": [
    "from statsmodels.stats.weightstats import ztest\n",
    "import math"
   ]
  },
  {
   "cell_type": "code",
   "execution_count": 6,
   "id": "c49cb7b8",
   "metadata": {},
   "outputs": [],
   "source": [
    "null_mean = 20\n",
    "alpha = 0.05"
   ]
  },
  {
   "cell_type": "code",
   "execution_count": 7,
   "id": "60373a18",
   "metadata": {},
   "outputs": [
    {
     "data": {
      "text/plain": [
       "(19.37755319670441, 6.222214863419309)"
      ]
     },
     "execution_count": 7,
     "metadata": {},
     "output_type": "execute_result"
    }
   ],
   "source": [
    "np.mean(data), np.std(data)"
   ]
  },
  {
   "cell_type": "code",
   "execution_count": 8,
   "id": "5049a472",
   "metadata": {},
   "outputs": [
    {
     "data": {
      "text/plain": [
       "(-0.9953477389335053, 0.8402164165464012)"
      ]
     },
     "execution_count": 8,
     "metadata": {},
     "output_type": "execute_result"
    }
   ],
   "source": [
    "# Оскільки розмір вибірки більше 30, то обраний z-test\n",
    "ztest_Score, p_value = ztest(data, value = null_mean, alternative='larger')\n",
    "ztest_Score, p_value"
   ]
  },
  {
   "cell_type": "code",
   "execution_count": 9,
   "id": "d0baea3f",
   "metadata": {},
   "outputs": [
    {
     "name": "stdout",
     "output_type": "stream",
     "text": [
      "Н0 не може бути відхилена.\n"
     ]
    }
   ],
   "source": [
    "if(p_value < alpha):\n",
    "    print(\"Відхилити Н0.\")\n",
    "else:\n",
    "    print(\"Н0 не може бути відхилена.\")"
   ]
  },
  {
   "cell_type": "markdown",
   "id": "c5263593",
   "metadata": {},
   "source": [
    "Висновок: Ні, ми не маємо зараз статистично значущу різницю у розмірі середнього чеку. Статистично значущо підвищити середній чек за останній місяць не вдалося."
   ]
  },
  {
   "cell_type": "markdown",
   "id": "05219e41",
   "metadata": {
    "ExecuteTime": {
     "end_time": "2022-12-10T14:52:46.140204Z",
     "start_time": "2022-12-10T14:52:46.112068Z"
    },
    "id": "05219e41"
   },
   "source": [
    "2. Пройшов час, і ми зібрали дані про продажі за серпень 2022 року, які зберігли у файл `data_2.csv`. Продажів було дещо більше, але чи змінився стат. значущо середній чек порівняно з липнем 2022? Перевірте це використовуючи ztest.\n",
    "\n",
    "  Виведіть p-значення статистичного тесту та зробіть висновок, чи ми маємо зараз статистично значущу різницю у розмірі середнього чека між двома місяцями.\n",
    "\n",
    "  **Підказка**: треба провести двовибірковий ztest з Н0 - що середні значення в липні та серпні 2022 року - однакові. Для кращого розуміння ситуації, можливо вам буде цікаво переглянути, які середні показники чеку були в кожен з місяців. Порівняйте свій висновок з простого спостереження середніх значень і висновок статистичного тесту. Чи вони збігаються?"
   ]
  },
  {
   "cell_type": "code",
   "execution_count": 10,
   "id": "hbs7LPI4hP-6",
   "metadata": {
    "id": "hbs7LPI4hP-6"
   },
   "outputs": [
    {
     "data": {
      "text/html": [
       "<div>\n",
       "<style scoped>\n",
       "    .dataframe tbody tr th:only-of-type {\n",
       "        vertical-align: middle;\n",
       "    }\n",
       "\n",
       "    .dataframe tbody tr th {\n",
       "        vertical-align: top;\n",
       "    }\n",
       "\n",
       "    .dataframe thead th {\n",
       "        text-align: right;\n",
       "    }\n",
       "</style>\n",
       "<table border=\"1\" class=\"dataframe\">\n",
       "  <thead>\n",
       "    <tr style=\"text-align: right;\">\n",
       "      <th></th>\n",
       "      <th>data</th>\n",
       "    </tr>\n",
       "  </thead>\n",
       "  <tbody>\n",
       "    <tr>\n",
       "      <th>0</th>\n",
       "      <td>5.940159</td>\n",
       "    </tr>\n",
       "    <tr>\n",
       "      <th>1</th>\n",
       "      <td>29.189344</td>\n",
       "    </tr>\n",
       "    <tr>\n",
       "      <th>2</th>\n",
       "      <td>11.383502</td>\n",
       "    </tr>\n",
       "    <tr>\n",
       "      <th>3</th>\n",
       "      <td>15.434098</td>\n",
       "    </tr>\n",
       "    <tr>\n",
       "      <th>4</th>\n",
       "      <td>19.896752</td>\n",
       "    </tr>\n",
       "    <tr>\n",
       "      <th>...</th>\n",
       "      <td>...</td>\n",
       "    </tr>\n",
       "    <tr>\n",
       "      <th>115</th>\n",
       "      <td>31.304916</td>\n",
       "    </tr>\n",
       "    <tr>\n",
       "      <th>116</th>\n",
       "      <td>15.822676</td>\n",
       "    </tr>\n",
       "    <tr>\n",
       "      <th>117</th>\n",
       "      <td>19.291394</td>\n",
       "    </tr>\n",
       "    <tr>\n",
       "      <th>118</th>\n",
       "      <td>19.036747</td>\n",
       "    </tr>\n",
       "    <tr>\n",
       "      <th>119</th>\n",
       "      <td>18.847899</td>\n",
       "    </tr>\n",
       "  </tbody>\n",
       "</table>\n",
       "<p>120 rows × 1 columns</p>\n",
       "</div>"
      ],
      "text/plain": [
       "          data\n",
       "0     5.940159\n",
       "1    29.189344\n",
       "2    11.383502\n",
       "3    15.434098\n",
       "4    19.896752\n",
       "..         ...\n",
       "115  31.304916\n",
       "116  15.822676\n",
       "117  19.291394\n",
       "118  19.036747\n",
       "119  18.847899\n",
       "\n",
       "[120 rows x 1 columns]"
      ]
     },
     "execution_count": 10,
     "metadata": {},
     "output_type": "execute_result"
    }
   ],
   "source": [
    "data_path2 = '../Статистика/data_2.csv'\n",
    "df2 = pd.read_csv(data_path2)\n",
    "df2"
   ]
  },
  {
   "cell_type": "code",
   "execution_count": 11,
   "id": "9450f184",
   "metadata": {},
   "outputs": [
    {
     "data": {
      "text/plain": [
       "array([ 5.94015879, 29.18934391, 11.38350244, 15.43409823, 19.89675209,\n",
       "       26.35462741, 21.71541042, 30.07928738, 18.559706  ,  8.98262482,\n",
       "       21.75095478, 21.99252789, 16.37737276, 18.36827303, 15.96373794,\n",
       "       30.98838431, 16.13256609, 11.01409438, 21.96585507,  9.46690988,\n",
       "       23.42563685, 21.53704461, 13.26051457, 17.14026368, 15.42554536,\n",
       "       30.6793921 , 21.26136766, 12.18702858, 10.69691295, 21.57137244,\n",
       "       19.44915472, 15.29409103, 21.20725805, 18.5615031 , 27.27465429,\n",
       "       22.71259245, 19.41187696, 21.98647106, 13.33332309, 26.42199496,\n",
       "       23.87611696, 16.09133552, 20.95972522, 15.47445472, 32.79323825,\n",
       "       16.42470817, 23.61838166, 22.92533987, 14.82328184, 19.14936908,\n",
       "       17.61708292, 20.76144078, 20.88864519, 22.17749704, 24.44099555,\n",
       "       17.42064342, 19.01311241, 17.11869915, 14.66455092,  9.59578906,\n",
       "       23.93038503, 18.80003123, 16.62880551,  9.30221669, 10.74561613,\n",
       "        5.00093505, 18.64262674, 23.06962246, 23.27815123, 19.56141603,\n",
       "       14.07482487, 19.67979235, 20.42825975, 23.21152701, 25.38472731,\n",
       "       18.32183161, 18.40471839, 23.90049615, 22.82595361, 17.8883959 ,\n",
       "        7.69030253, 15.65278307, 25.46426689, 19.88110497, 26.00681157,\n",
       "       18.6329991 , 20.01875783, 24.54669482, 23.53397824, 22.66170117,\n",
       "       26.54318517, 28.49067512, 28.26177047,  8.79769859, 15.74868453,\n",
       "       17.5587485 , 18.25251678, 12.41697717, 28.65554398, 13.35890789,\n",
       "       18.55112891,  6.06913755, 16.95560427, 17.22003895, 15.26047544,\n",
       "       24.40168713, 33.85257121, 12.79623496, 15.75786194, 30.56181596,\n",
       "       23.10622576, 17.12450518, 11.93884885, 25.61775034, 21.78617867,\n",
       "       31.3049159 , 15.82267598, 19.2913942 , 19.03674666, 18.8478986 ])"
      ]
     },
     "execution_count": 11,
     "metadata": {},
     "output_type": "execute_result"
    }
   ],
   "source": [
    "data2 = np.array(df2.data)\n",
    "data2"
   ]
  },
  {
   "cell_type": "code",
   "execution_count": 12,
   "id": "58306f63",
   "metadata": {},
   "outputs": [
    {
     "data": {
      "text/plain": [
       "(120,)"
      ]
     },
     "execution_count": 12,
     "metadata": {},
     "output_type": "execute_result"
    }
   ],
   "source": [
    "data2.shape"
   ]
  },
  {
   "cell_type": "code",
   "execution_count": 13,
   "id": "6144fa45",
   "metadata": {},
   "outputs": [
    {
     "data": {
      "text/plain": [
       "(19.37755319670441, 19.37322276512519)"
      ]
     },
     "execution_count": 13,
     "metadata": {},
     "output_type": "execute_result"
    }
   ],
   "source": [
    "np.mean(data), np.mean(data2)"
   ]
  },
  {
   "cell_type": "code",
   "execution_count": 14,
   "id": "ad555f61",
   "metadata": {},
   "outputs": [
    {
     "data": {
      "text/plain": [
       "(6.222214863419309, 5.936369567972301)"
      ]
     },
     "execution_count": 14,
     "metadata": {},
     "output_type": "execute_result"
    }
   ],
   "source": [
    "np.std(data), np.std(data2)"
   ]
  },
  {
   "cell_type": "code",
   "execution_count": 15,
   "id": "60dff185",
   "metadata": {},
   "outputs": [
    {
     "data": {
      "text/plain": [
       "(0.005246673456808504, 0.9958137794593356)"
      ]
     },
     "execution_count": 15,
     "metadata": {},
     "output_type": "execute_result"
    }
   ],
   "source": [
    "ztest(data, data2, value=0)"
   ]
  },
  {
   "cell_type": "markdown",
   "id": "41566683",
   "metadata": {},
   "source": [
    "Висновок: Статистика для двох вибірок z-критерію становить 0.00525, а відповідне p-value дорівнює 0.9958.\n",
    "\n",
    "Оскільки p-value > 0.05, то нульова гіпотеза не може бути відхилена. Тобто середній рівень продажів за два порівнювальні місяці значимо не відрізняється. Це підтверджується і значеннями середніх, що були виведені вище і збігаються до 2-го знаку після коми."
   ]
  },
  {
   "cell_type": "code",
   "execution_count": null,
   "id": "8c481208",
   "metadata": {},
   "outputs": [],
   "source": []
  }
 ],
 "metadata": {
  "colab": {
   "provenance": []
  },
  "hide_input": false,
  "kernelspec": {
   "display_name": "Python 3 (ipykernel)",
   "language": "python",
   "name": "python3"
  },
  "language_info": {
   "codemirror_mode": {
    "name": "ipython",
    "version": 3
   },
   "file_extension": ".py",
   "mimetype": "text/x-python",
   "name": "python",
   "nbconvert_exporter": "python",
   "pygments_lexer": "ipython3",
   "version": "3.9.7"
  },
  "toc": {
   "base_numbering": 1,
   "nav_menu": {},
   "number_sections": true,
   "sideBar": true,
   "skip_h1_title": false,
   "title_cell": "Table of Contents",
   "title_sidebar": "Contents",
   "toc_cell": false,
   "toc_position": {},
   "toc_section_display": true,
   "toc_window_display": false
  },
  "varInspector": {
   "cols": {
    "lenName": 16,
    "lenType": 16,
    "lenVar": 40
   },
   "kernels_config": {
    "python": {
     "delete_cmd_postfix": "",
     "delete_cmd_prefix": "del ",
     "library": "var_list.py",
     "varRefreshCmd": "print(var_dic_list())"
    },
    "r": {
     "delete_cmd_postfix": ") ",
     "delete_cmd_prefix": "rm(",
     "library": "var_list.r",
     "varRefreshCmd": "cat(var_dic_list()) "
    }
   },
   "types_to_exclude": [
    "module",
    "function",
    "builtin_function_or_method",
    "instance",
    "_Feature"
   ],
   "window_display": false
  }
 },
 "nbformat": 4,
 "nbformat_minor": 5
}
