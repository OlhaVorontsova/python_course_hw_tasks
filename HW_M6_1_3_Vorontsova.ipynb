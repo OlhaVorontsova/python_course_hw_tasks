{
 "cells": [
  {
   "cell_type": "markdown",
   "id": "716da9ab",
   "metadata": {},
   "source": [
    "Домашнє завдання №3"
   ]
  },
  {
   "cell_type": "markdown",
   "id": "035561ba",
   "metadata": {},
   "source": [
    "1.\tСкільки різних паролів можна скласти, використовуючи три літери англійського алфавіту, якщо літери не повинні повторюватися?"
   ]
  },
  {
   "cell_type": "markdown",
   "id": "20c1e488",
   "metadata": {},
   "source": [
    "Вхідні дані:  \n",
    "Кількість літер в англійському алфавіті n = 26  \n",
    "Кількість літер для паролю r = 3  \n",
    "Для паролю порядок літер має значення."
   ]
  },
  {
   "cell_type": "markdown",
   "id": "113cae6a",
   "metadata": {},
   "source": [
    "Розв'язок:  \n",
    "А = n! / (n-r)! = 26! / (26 - 3)! = 26! / 23! = 24 * 25 * 26 = 15600  \n",
    "Відповідь: 15600"
   ]
  },
  {
   "cell_type": "markdown",
   "id": "2b58b91e",
   "metadata": {},
   "source": [
    "2.\tЄ група з 8 людей. Скількома способами можна обрати комітет із 3 осіб?"
   ]
  },
  {
   "cell_type": "markdown",
   "id": "482106f3",
   "metadata": {},
   "source": [
    "Вхідні дані:  \n",
    "Група з 8 людей тобто n = 8  \n",
    "Комітет має включати 3 особи тобто r = 3  \n",
    "Порядок тут немає значення, адже від перестановки людей склад комітету не зміниться"
   ]
  },
  {
   "cell_type": "markdown",
   "id": "6b027e6c",
   "metadata": {},
   "source": [
    "Розв'язок:  \n",
    "С = n! / ((n-r)! * r!) = 8! / ((8-3)! * 3!) = 8! / (5! * 3!) = 6 * 7 * 8 / 1 * 2 * 3 = 7 * 8 = 56  \n",
    "Відповідь: 56"
   ]
  },
  {
   "cell_type": "markdown",
   "id": "90f2ca3b",
   "metadata": {},
   "source": [
    "3.\tСкількома різними способами можна розташувати на полиці 5 різних книг?"
   ]
  },
  {
   "cell_type": "markdown",
   "id": "d55ff741",
   "metadata": {},
   "source": [
    "Вхідні дані:  \n",
    "Кількість книг n = 5"
   ]
  },
  {
   "cell_type": "markdown",
   "id": "5fc04da3",
   "metadata": {},
   "source": [
    "Розв'язок:  \n",
    "Тут потрібно застосувати формулу перестановки тобто P = n! = 5! = 120  \n",
    "Відповідь: 120"
   ]
  },
  {
   "cell_type": "markdown",
   "id": "29311916",
   "metadata": {},
   "source": [
    "4.\tВ урні знаходяться 4 червоні, 3 сині і 2 зелені кулі. Скількома способами можна витягти 3 кулі, якщо вони повинні бути різних кольорів?"
   ]
  },
  {
   "cell_type": "markdown",
   "id": "0706bb69",
   "metadata": {},
   "source": [
    "Вхідні дані:  \n",
    "Всього куль 9  \n",
    "Кількість червоних куль 4  \n",
    "Кількість синіх куль 3  \n",
    "Кількість зелених куль 2"
   ]
  },
  {
   "cell_type": "markdown",
   "id": "02cdc6f1",
   "metadata": {},
   "source": [
    "Розв'язок:  \n",
    "Оскільки потрібно одночасно витягнути 3 кулі різних кольорів, то застосовуємо правило добутку: 4 * 3 * 2 = 24  \n",
    "Відповідь: 24"
   ]
  },
  {
   "cell_type": "code",
   "execution_count": null,
   "id": "953d27bb",
   "metadata": {},
   "outputs": [],
   "source": []
  }
 ],
 "metadata": {
  "kernelspec": {
   "display_name": "Python 3 (ipykernel)",
   "language": "python",
   "name": "python3"
  },
  "language_info": {
   "codemirror_mode": {
    "name": "ipython",
    "version": 3
   },
   "file_extension": ".py",
   "mimetype": "text/x-python",
   "name": "python",
   "nbconvert_exporter": "python",
   "pygments_lexer": "ipython3",
   "version": "3.9.7"
  }
 },
 "nbformat": 4,
 "nbformat_minor": 5
}
