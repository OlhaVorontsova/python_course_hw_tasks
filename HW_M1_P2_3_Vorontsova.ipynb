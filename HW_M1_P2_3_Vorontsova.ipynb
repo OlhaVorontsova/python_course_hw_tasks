{
 "cells": [
  {
   "cell_type": "markdown",
   "metadata": {
    "id": "_U7grDp49Oh4"
   },
   "source": [
    "#Домашнє завдання до теми \"Словники, набори, кортежі\""
   ]
  },
  {
   "cell_type": "markdown",
   "metadata": {
    "id": "MeJO71eebhcf"
   },
   "source": [
    "1. Заданий список `new_list`. Перетворіть його на набір (set). Які зміни у наборі елементів Ви помітили? Відповідь напишіть у коментарі до коду (саме в клітинці з кодом)."
   ]
  },
  {
   "cell_type": "code",
   "execution_count": 1,
   "metadata": {
    "id": "RR806sKFbcQi"
   },
   "outputs": [],
   "source": [
    "new_list = [22, 11, 67, 11, 88, 3213, 12, 78, 67, 11, 16, 15, 88]"
   ]
  },
  {
   "cell_type": "code",
   "execution_count": 2,
   "metadata": {},
   "outputs": [
    {
     "data": {
      "text/plain": [
       "[22, 11, 67, 11, 88, 3213, 12, 78, 67, 11, 16, 15, 88]"
      ]
     },
     "execution_count": 2,
     "metadata": {},
     "output_type": "execute_result"
    }
   ],
   "source": [
    "new_list"
   ]
  },
  {
   "cell_type": "code",
   "execution_count": 10,
   "metadata": {
    "id": "RsAqldIL8xdP"
   },
   "outputs": [
    {
     "data": {
      "text/plain": [
       "{11, 12, 15, 16, 22, 67, 78, 88, 3213}"
      ]
     },
     "execution_count": 10,
     "metadata": {},
     "output_type": "execute_result"
    }
   ],
   "source": [
    "new_list_2 = set(new_list)\n",
    "new_list_2\n",
    "# Зміни:\n",
    "# 1) змінився формат зі списку на набір\n",
    "# 2) утворений набір містить лише унікальні елементи списку\n",
    "# 3) всі елементи набору впорядковані за зростанням"
   ]
  },
  {
   "cell_type": "markdown",
   "metadata": {
    "id": "2EunOC15b4-j"
   },
   "source": [
    "2. Задано набір елементів `set_a` і значення `new_value`. Додайте значення  `new_value` до набору `set_a`. Виведіть оновлений `set_a` на екран."
   ]
  },
  {
   "cell_type": "code",
   "execution_count": 12,
   "metadata": {
    "id": "THWrToPlMlJs"
   },
   "outputs": [],
   "source": [
    "set_a = {121, 144, 177, 199}\n",
    "new_value = 88"
   ]
  },
  {
   "cell_type": "code",
   "execution_count": 13,
   "metadata": {
    "id": "i-k84avz8ytw"
   },
   "outputs": [
    {
     "data": {
      "text/plain": [
       "{88, 121, 144, 177, 199}"
      ]
     },
     "execution_count": 13,
     "metadata": {},
     "output_type": "execute_result"
    }
   ],
   "source": [
    "set_a.add(new_value)\n",
    "set_a"
   ]
  },
  {
   "cell_type": "markdown",
   "metadata": {
    "id": "fUyrNbfM7b1f"
   },
   "source": [
    "3. У наборів є операції обʼєднання, перетину та різниці. Обʼєднання - це коли ми хочемо обʼєднати всі елементи, які є в двох наборах. Виконати обʼєднання можна опреацією `union`, наприклад, аби виконати те, що зображено нижче, ми використаємо код\n",
    "\n",
    "```\n",
    "A = {2, 4, 5, 6}\n",
    "B = {4, 6, 7, 8}\n",
    "\n",
    "print(\"A U B:\", A.union(B))\n",
    "\n",
    "```"
   ]
  },
  {
   "cell_type": "markdown",
   "metadata": {
    "id": "_km0yvST7odq"
   },
   "source": [
    "Нижче наведено 3 набори. Створіть новий набір `result_set`, який є обʼєднанням трьох наведених наборів і виведіть результат на екран."
   ]
  },
  {
   "cell_type": "code",
   "execution_count": 14,
   "metadata": {
    "id": "ewsvlFMf8Cjc"
   },
   "outputs": [],
   "source": [
    "set1 = {1, 2, 3, 4, 5, 10, 15, 20}\n",
    "set2 = {4, 5, 6, 7, 8, 15, 20, 25}\n",
    "set3 = {7, 8, 9, 10, 11, 20, 25, 30}"
   ]
  },
  {
   "cell_type": "code",
   "execution_count": 15,
   "metadata": {
    "id": "wYvJEd_a8z5V"
   },
   "outputs": [
    {
     "name": "stdout",
     "output_type": "stream",
     "text": [
      "set1 U set2 U set3: {1, 2, 3, 4, 5, 6, 7, 8, 9, 10, 11, 15, 20, 25, 30}\n"
     ]
    }
   ],
   "source": [
    "result_set = set1.union(set2,set3)\n",
    "print('set1 U set2 U set3:', result_set)"
   ]
  },
  {
   "cell_type": "markdown",
   "metadata": {
    "id": "5uTR2IYSb6uZ"
   },
   "source": [
    "4. Практика на роботу зі словниками. Це завдання включає 4 невеличких пункти:\n",
    "\n",
    "  1) Створіть словник, що містить 5 пар ключ-значення, де ключі - це імена студентів (тип рядок), а значення - їхні оцінки з програмування від 1 до 12. Запишіть словник у змінну. Значення - довільні.\n",
    "\n",
    "  2) Виведіть весь словник на екран. Важливо, аби словник вивівся на екран в jupyter notebook, будь-який спосіб, який це робить, нам підходить.\n",
    "\n",
    "  3) Додайте до словника нового студента та його оцінку.\n",
    "\n",
    "  4) Виведіть оцінку одного конкретного студента, звертаючись до неї за його ім'ям."
   ]
  },
  {
   "cell_type": "code",
   "execution_count": 16,
   "metadata": {
    "id": "rBX-zqLw82KL"
   },
   "outputs": [
    {
     "data": {
      "text/plain": [
       "{'Olha': 12, 'Anna': 10, 'Max': 9, 'Kate': 11, 'Alex': 2}"
      ]
     },
     "execution_count": 16,
     "metadata": {},
     "output_type": "execute_result"
    }
   ],
   "source": [
    "# п.1-2\n",
    "my_dict = {'Olha': 12, 'Anna': 10, 'Max': 9, 'Kate': 11, 'Alex': 2}\n",
    "my_dict # Перший варіант виведення словника до п.2"
   ]
  },
  {
   "cell_type": "code",
   "execution_count": 18,
   "metadata": {},
   "outputs": [
    {
     "data": {
      "text/plain": [
       "dict_items([('Olha', 12), ('Anna', 10), ('Max', 9), ('Kate', 11), ('Alex', 2)])"
      ]
     },
     "execution_count": 18,
     "metadata": {},
     "output_type": "execute_result"
    }
   ],
   "source": [
    "# п.2\n",
    "my_dict.items() # Альтернативний варіант виведення словника до п.2"
   ]
  },
  {
   "cell_type": "code",
   "execution_count": 20,
   "metadata": {},
   "outputs": [
    {
     "data": {
      "text/plain": [
       "{'Olha': 12, 'Anna': 10, 'Max': 9, 'Kate': 11, 'Alex': 2, 'Bob': 7}"
      ]
     },
     "execution_count": 20,
     "metadata": {},
     "output_type": "execute_result"
    }
   ],
   "source": [
    "# п.3\n",
    "my_dict['Bob'] = 7\n",
    "my_dict"
   ]
  },
  {
   "cell_type": "code",
   "execution_count": 21,
   "metadata": {},
   "outputs": [
    {
     "data": {
      "text/plain": [
       "9"
      ]
     },
     "execution_count": 21,
     "metadata": {},
     "output_type": "execute_result"
    }
   ],
   "source": [
    "# п.4\n",
    "my_dict['Max']"
   ]
  },
  {
   "cell_type": "markdown",
   "metadata": {
    "id": "YUny9wB63i9Y"
   },
   "source": [
    "5. На лекції ми обговорили різницю між колекціями `tuple` і `list`. Основна з них - те, що `tuple` - це незмінна структура. Але ж що робити, якщо нам все ж треба змінити значення в tuple? Наступний набір завдань - аби попрацювати над цим.\n",
    "\n",
    "  Заданий кортеж `my_tuple`. Спробуйте призначити елементу з індексом 3 значення 22."
   ]
  },
  {
   "cell_type": "code",
   "execution_count": 22,
   "metadata": {
    "id": "k3yKvdeE4Mdc"
   },
   "outputs": [],
   "source": [
    "my_tuple = (11, 12, 13, 14, 15)"
   ]
  },
  {
   "cell_type": "code",
   "execution_count": 30,
   "metadata": {
    "id": "1hGUWFe5824D"
   },
   "outputs": [
    {
     "data": {
      "text/plain": [
       "(11, 12, 13, 22, 15)"
      ]
     },
     "execution_count": 30,
     "metadata": {},
     "output_type": "execute_result"
    }
   ],
   "source": [
    "my_list = list(my_tuple)\n",
    "my_list[3] = 22\n",
    "modified_tuple = tuple(my_list)\n",
    "modified_tuple"
   ]
  },
  {
   "cell_type": "markdown",
   "metadata": {
    "id": "UeJnwF4Y4P41"
   },
   "source": [
    "Перетворіть кортеж `my_tuple` на список `my_list`. Для перетворення скористайтесь викликом функції. Нам треба отримати `my_list` саме перетворенням `my_tuple` на нього, а не визначаючи вручну (таке виконання буде зараховане як помилка)."
   ]
  },
  {
   "cell_type": "code",
   "execution_count": 26,
   "metadata": {
    "id": "twDIbj6x4uqy"
   },
   "outputs": [
    {
     "data": {
      "text/plain": [
       "[11, 12, 13, 14, 15]"
      ]
     },
     "execution_count": 26,
     "metadata": {},
     "output_type": "execute_result"
    }
   ],
   "source": [
    "my_list = list(my_tuple)\n",
    "my_list"
   ]
  },
  {
   "cell_type": "markdown",
   "metadata": {
    "id": "_CMaEQgp4u8S"
   },
   "source": [
    "Тепер змініть значення елемента з індексом 3 списку `my_list` на 22."
   ]
  },
  {
   "cell_type": "code",
   "execution_count": 27,
   "metadata": {
    "id": "kwRNmRGo3cjK"
   },
   "outputs": [],
   "source": [
    "my_list[3] = 22"
   ]
  },
  {
   "cell_type": "markdown",
   "metadata": {
    "id": "Q9LOHy1N47WL"
   },
   "source": [
    "Оновлений список `my_list` перетворіть на новий кортеж `modified_tuple` і виведіть `modified_tuple` на екран."
   ]
  },
  {
   "cell_type": "code",
   "execution_count": 29,
   "metadata": {
    "id": "cRkKaBK_5Mrx"
   },
   "outputs": [
    {
     "data": {
      "text/plain": [
       "(11, 12, 13, 22, 15)"
      ]
     },
     "execution_count": 29,
     "metadata": {},
     "output_type": "execute_result"
    }
   ],
   "source": [
    "modified_tuple = tuple(my_list)\n",
    "modified_tuple"
   ]
  },
  {
   "cell_type": "code",
   "execution_count": null,
   "metadata": {},
   "outputs": [],
   "source": []
  }
 ],
 "metadata": {
  "colab": {
   "provenance": []
  },
  "kernelspec": {
   "display_name": "Python 3 (ipykernel)",
   "language": "python",
   "name": "python3"
  },
  "language_info": {
   "codemirror_mode": {
    "name": "ipython",
    "version": 3
   },
   "file_extension": ".py",
   "mimetype": "text/x-python",
   "name": "python",
   "nbconvert_exporter": "python",
   "pygments_lexer": "ipython3",
   "version": "3.9.7"
  }
 },
 "nbformat": 4,
 "nbformat_minor": 1
}
