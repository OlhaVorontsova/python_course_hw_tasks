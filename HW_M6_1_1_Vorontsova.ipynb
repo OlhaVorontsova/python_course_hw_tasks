{
 "cells": [
  {
   "cell_type": "markdown",
   "id": "716da9ab",
   "metadata": {},
   "source": [
    "Домашнє завдання №1"
   ]
  },
  {
   "cell_type": "markdown",
   "id": "035561ba",
   "metadata": {},
   "source": [
    "1.\tВи — продакт менеджер в компанії, яка займається мобільними додатками. Ваша модель монетизації — підписка. У травні 2019 року до вас приєдналося 100 підписників, у червні — 150, у липні — 170. Скільки ці користувачі принесли вам до травня 2021 року включно, якщо щомісячний рівень відтоку становить 5%, а підписка коштує $10?"
   ]
  },
  {
   "cell_type": "code",
   "execution_count": 1,
   "id": "5e0940af",
   "metadata": {},
   "outputs": [],
   "source": [
    "# Вхідні дані:\n",
    "base_may = 100\n",
    "base_jun = 150\n",
    "base_jul = 170\n",
    "churn_rate = 0.05\n",
    "q = 1 - churn_rate\n",
    "price = 10"
   ]
  },
  {
   "cell_type": "code",
   "execution_count": 2,
   "id": "6afb51ca",
   "metadata": {},
   "outputs": [],
   "source": [
    "# Формула згенерованого доходу для підписників травня 2019:\n",
    "n1 = 25 # період травень 2019 - травень 2021\n",
    "R_tot1 = price * base_may * ((1 - q**n1)/(1-q))"
   ]
  },
  {
   "cell_type": "code",
   "execution_count": 3,
   "id": "1df6da61",
   "metadata": {},
   "outputs": [],
   "source": [
    "# Формула згенерованого доходу для підписників червня 2019:\n",
    "n2 = 24 # період червень 2019 - травень 2021\n",
    "R_tot2 = price * base_jun * ((1 - q**n2)/(1-q))"
   ]
  },
  {
   "cell_type": "code",
   "execution_count": 4,
   "id": "0285dd38",
   "metadata": {},
   "outputs": [],
   "source": [
    "# Формула згенерованого доходу для підписників липня 2019:\n",
    "n3 = 23 # період липень 2019 - травень 2021\n",
    "R_tot3 = price * base_jul * ((1 - q**n3)/(1-q))"
   ]
  },
  {
   "cell_type": "code",
   "execution_count": 5,
   "id": "08909d04",
   "metadata": {},
   "outputs": [
    {
     "name": "stdout",
     "output_type": "stream",
     "text": [
      "Відповідь: 59242.4043047493 $\n"
     ]
    }
   ],
   "source": [
    "# Сумарний дохід по базам підписників травня-липня 2019:\n",
    "R_tot = R_tot1 + R_tot2 + R_tot3\n",
    "print('Відповідь:', R_tot, '$')"
   ]
  },
  {
   "cell_type": "markdown",
   "id": "7f711672",
   "metadata": {},
   "source": [
    "2.\tВи — менеджер по роботі з продуктом в компанії, яка розробляє мобільні ігри. Вашою метою є збільшення кількості активних користувачів. У січні 2020 року у вас було 2000 активних користувачів. З лютого кількість активних користувачів щомісяця зростає на 3%. У той же час, 2% користувачів щомісяця перестають користуватися додатком. Якою буде кількість активних користувачів за весь період від січня 2020 року до кінця грудня 2021 року?"
   ]
  },
  {
   "cell_type": "code",
   "execution_count": 6,
   "id": "2bf5e79f",
   "metadata": {},
   "outputs": [],
   "source": [
    "# Вхідні дані:\n",
    "base1 = 2000\n",
    "acquisition_rate = 0.03\n",
    "churn_rate = 0.02\n",
    "extra_rate = acquisition_rate - churn_rate\n",
    "q = 1 + extra_rate\n",
    "n = 24"
   ]
  },
  {
   "cell_type": "code",
   "execution_count": 7,
   "id": "aa568cf9",
   "metadata": {},
   "outputs": [
    {
     "name": "stdout",
     "output_type": "stream",
     "text": [
      "Відповідь: ~ 53947 активних користувачів\n"
     ]
    }
   ],
   "source": [
    "# Формула суми геометричної прогресії для підрахунку активних користувачів за весь період\n",
    "base = base1 * ((1 - q**n)/(1-q))\n",
    "print('Відповідь: ~', round(base), 'активних користувачів')"
   ]
  },
  {
   "cell_type": "markdown",
   "id": "e1a5bfcc",
   "metadata": {},
   "source": [
    "3.\tВи — менеджер з розвитку бізнесу в компанії, що займається створенням платформи для онлайн-курсів. У січні 2021 року ви залучили 500 нових користувачів. У лютому кількість нових користувачів зросла на 50%, у березні — ще на 20%. З квітня приріст нових користувачів стабілізувався на рівні 10% щомісяця.Скільки активних користувачів ви мали загалом за перше півріччя 2021 року?"
   ]
  },
  {
   "cell_type": "code",
   "execution_count": 8,
   "id": "f872adc2",
   "metadata": {},
   "outputs": [],
   "source": [
    "# Вхідні дані:\n",
    "base1 = 500\n",
    "acq_rate2 = 0.5\n",
    "acq_rate3 = 0.2\n",
    "acq_rate4 = 0.1\n",
    "acq_rate5 = 0.1\n",
    "acq_rate6 = 0.1"
   ]
  },
  {
   "cell_type": "code",
   "execution_count": 9,
   "id": "a0866e11",
   "metadata": {},
   "outputs": [],
   "source": [
    "# Обчислення кількості нових користувачів помісячно за лютий - червень 2021:\n",
    "base2 = base1 * (1 + acq_rate2)\n",
    "base3 = base2 * (1 + acq_rate3)\n",
    "base4 = base3 * (1 + acq_rate4)\n",
    "base5 = base4 * (1 + acq_rate5)\n",
    "base6 = base5 * (1 + acq_rate6)"
   ]
  },
  {
   "cell_type": "code",
   "execution_count": 10,
   "id": "fac6e944",
   "metadata": {},
   "outputs": [
    {
     "name": "stdout",
     "output_type": "stream",
     "text": [
      "Відповідь: ~ 5427 активних користувачів\n"
     ]
    }
   ],
   "source": [
    "# Обчислення загальної суми користувачів як суми за всі місяці півріччя 2021:\n",
    "total_base = base1 + base2 + base3 + base4 + base5 + base6\n",
    "print('Відповідь: ~', round(total_base), 'активних користувачів')"
   ]
  },
  {
   "cell_type": "code",
   "execution_count": null,
   "id": "a510a7c9",
   "metadata": {},
   "outputs": [],
   "source": []
  }
 ],
 "metadata": {
  "kernelspec": {
   "display_name": "Python 3 (ipykernel)",
   "language": "python",
   "name": "python3"
  },
  "language_info": {
   "codemirror_mode": {
    "name": "ipython",
    "version": 3
   },
   "file_extension": ".py",
   "mimetype": "text/x-python",
   "name": "python",
   "nbconvert_exporter": "python",
   "pygments_lexer": "ipython3",
   "version": "3.9.7"
  }
 },
 "nbformat": 4,
 "nbformat_minor": 5
}
